{
 "cells": [
  {
   "cell_type": "code",
   "execution_count": 1,
   "metadata": {
    "ExecuteTime": {
     "end_time": "2023-04-26T09:51:35.700536Z",
     "start_time": "2023-04-26T09:51:28.532510Z"
    }
   },
   "outputs": [],
   "source": [
    "import sys\n",
    "import time\n",
    "import warnings\n",
    "from tqdm import tqdm\n",
    "from math import log\n",
    "#data processing\n",
    "import pandas as pd\n",
    "import numpy as np\n",
    "\n",
    "#visualisation\n",
    "import matplotlib.pyplot as plt \n",
    "import seaborn as sns\n",
    "\n",
    "from scipy.stats import kruskal, pearsonr, ttest_ind\n",
    "from sklearn import preprocessing\n",
    "from collections import Counter\n",
    "# Metrics\n",
    "from sklearn.model_selection import train_test_split, cross_val_score\n",
    "from sklearn.metrics import f1_score, accuracy_score, precision_score, recall_score\n",
    "from sklearn.metrics import log_loss, classification_report, confusion_matrix\n",
    "\n",
    "from imblearn.over_sampling import RandomOverSampler\n",
    "from imblearn.under_sampling import RandomUnderSampler\n",
    "from sklearn.model_selection import ShuffleSplit\n",
    "\n",
    "# ML\n",
    "from sklearn.linear_model import LogisticRegression\n",
    "from sklearn.ensemble import RandomForestClassifier\n",
    "from sklearn.tree import DecisionTreeClassifier\n",
    "from sklearn.naive_bayes import GaussianNB\n",
    "from sklearn.svm import SVC\n",
    "from sklearn import tree\n",
    "\n",
    "\n",
    "from logic.feature_extraction import FeatureExtraction\n",
    "from logic.text_analysis import TextAnalysis\n",
    "from root import DIR_INPUT"
   ]
  },
  {
   "cell_type": "code",
   "execution_count": 2,
   "metadata": {
    "ExecuteTime": {
     "end_time": "2023-04-26T09:51:35.767285Z",
     "start_time": "2023-04-26T09:51:35.691326Z"
    }
   },
   "outputs": [],
   "source": [
    "lang = 'es'"
   ]
  },
  {
   "cell_type": "code",
   "execution_count": 3,
   "metadata": {
    "ExecuteTime": {
     "end_time": "2023-04-25T22:13:29.642085Z",
     "start_time": "2023-04-25T22:13:29.603815Z"
    },
    "pycharm": {
     "is_executing": true
    }
   },
   "outputs": [],
   "source": [
    "ftrain = '{0}{1}{2}{3}'.format(DIR_INPUT, 'Valence_train_oc_', lang, '.csv')\n",
    "ftest = '{0}{1}{2}{3}'.format(DIR_INPUT, 'Valence_test_oc_', lang, '.csv')"
   ]
  },
  {
   "cell_type": "code",
   "execution_count": 4,
   "metadata": {
    "ExecuteTime": {
     "end_time": "2023-04-25T22:13:40.430982Z",
     "start_time": "2023-04-25T22:13:29.635937Z"
    },
    "pycharm": {
     "is_executing": true
    }
   },
   "outputs": [
    {
     "name": "stdout",
     "output_type": "stream",
     "text": [
      "Language: es\n",
      "Text Analysis: ['tok2vec', 'morphologizer', 'emoji', 'syllables', 'parser', 'attribute_ruler', 'lemmatizer', 'ner']\n"
     ]
    }
   ],
   "source": [
    "ta = TextAnalysis(lang=lang)"
   ]
  },
  {
   "cell_type": "code",
   "execution_count": 5,
   "metadata": {
    "ExecuteTime": {
     "end_time": "2023-04-25T22:13:44.854254Z",
     "start_time": "2023-04-25T22:13:40.438981Z"
    },
    "pycharm": {
     "is_executing": true
    }
   },
   "outputs": [],
   "source": [
    "features = FeatureExtraction(lang=lang, text_analysis=ta)"
   ]
  },
  {
   "cell_type": "code",
   "execution_count": 6,
   "metadata": {},
   "outputs": [],
   "source": [
    "train_data = pd.read_csv(ftrain, sep = ';')"
   ]
  },
  {
   "cell_type": "code",
   "execution_count": 7,
   "metadata": {
    "pycharm": {
     "is_executing": true
    }
   },
   "outputs": [
    {
     "data": {
      "text/html": [
       "<div>\n",
       "<style scoped>\n",
       "    .dataframe tbody tr th:only-of-type {\n",
       "        vertical-align: middle;\n",
       "    }\n",
       "\n",
       "    .dataframe tbody tr th {\n",
       "        vertical-align: top;\n",
       "    }\n",
       "\n",
       "    .dataframe thead th {\n",
       "        text-align: right;\n",
       "    }\n",
       "</style>\n",
       "<table border=\"1\" class=\"dataframe\">\n",
       "  <thead>\n",
       "    <tr style=\"text-align: right;\">\n",
       "      <th></th>\n",
       "      <th>ID</th>\n",
       "      <th>Tweet</th>\n",
       "      <th>Dimension</th>\n",
       "      <th>Intensity</th>\n",
       "      <th>Description</th>\n",
       "      <th>clean_text</th>\n",
       "    </tr>\n",
       "  </thead>\n",
       "  <tbody>\n",
       "    <tr>\n",
       "      <th>0</th>\n",
       "      <td>2018-Es-00818</td>\n",
       "      <td>Este año me tocará ir sola a la Convención de ...</td>\n",
       "      <td>valence</td>\n",
       "      <td>0</td>\n",
       "      <td>se infiere un estado emocional neutral or mixto</td>\n",
       "      <td>este año me tocará ir sola a la convención de ...</td>\n",
       "    </tr>\n",
       "    <tr>\n",
       "      <th>1</th>\n",
       "      <td>2018-Es-06065</td>\n",
       "      <td>MB si no me equivoco una vez me confundi de sn...</td>\n",
       "      <td>valence</td>\n",
       "      <td>0</td>\n",
       "      <td>se infiere un estado emocional neutral or mixto</td>\n",
       "      <td>mb si no me equivoco una vez me confundi de sn...</td>\n",
       "    </tr>\n",
       "    <tr>\n",
       "      <th>2</th>\n",
       "      <td>2018-Es-00417</td>\n",
       "      <td>@cokep Que eres terrible fome! 🙄 Y añejo poh!</td>\n",
       "      <td>valence</td>\n",
       "      <td>-2</td>\n",
       "      <td>se infiere un estado emocional moderadamente n...</td>\n",
       "      <td>MENCION que eres terrible fome fastidio y añej...</td>\n",
       "    </tr>\n",
       "    <tr>\n",
       "      <th>3</th>\n",
       "      <td>2018-Es-00861</td>\n",
       "      <td>Gracias por informar temas de contingencia del...</td>\n",
       "      <td>valence</td>\n",
       "      <td>-1</td>\n",
       "      <td>se infiere un estado emocional ligeramente neg...</td>\n",
       "      <td>gracias por informar temas de contingencia del...</td>\n",
       "    </tr>\n",
       "    <tr>\n",
       "      <th>4</th>\n",
       "      <td>2018-Es-01772</td>\n",
       "      <td>En Maipú hace falta una peluquería ATR</td>\n",
       "      <td>valence</td>\n",
       "      <td>-1</td>\n",
       "      <td>se infiere un estado emocional ligeramente neg...</td>\n",
       "      <td>en maipú hace falta una peluquería atr</td>\n",
       "    </tr>\n",
       "    <tr>\n",
       "      <th>...</th>\n",
       "      <td>...</td>\n",
       "      <td>...</td>\n",
       "      <td>...</td>\n",
       "      <td>...</td>\n",
       "      <td>...</td>\n",
       "      <td>...</td>\n",
       "    </tr>\n",
       "    <tr>\n",
       "      <th>1561</th>\n",
       "      <td>2018-Es-01295</td>\n",
       "      <td>Sale uno del estadio como todo preocupado.</td>\n",
       "      <td>valence</td>\n",
       "      <td>-1</td>\n",
       "      <td>se infiere un estado emocional ligeramente neg...</td>\n",
       "      <td>sale uno del estadio como todo preocupado</td>\n",
       "    </tr>\n",
       "    <tr>\n",
       "      <th>1562</th>\n",
       "      <td>2018-Es-04833</td>\n",
       "      <td>No mames, qué fino.</td>\n",
       "      <td>valence</td>\n",
       "      <td>0</td>\n",
       "      <td>se infiere un estado emocional neutral or mixto</td>\n",
       "      <td>no mames qué fino</td>\n",
       "    </tr>\n",
       "    <tr>\n",
       "      <th>1563</th>\n",
       "      <td>2018-Es-05750</td>\n",
       "      <td>Me bajo mucho en la hermana del  raton, pero e...</td>\n",
       "      <td>valence</td>\n",
       "      <td>-1</td>\n",
       "      <td>se infiere un estado emocional ligeramente neg...</td>\n",
       "      <td>me bajo mucho en la hermana del raton pero es ...</td>\n",
       "    </tr>\n",
       "    <tr>\n",
       "      <th>1564</th>\n",
       "      <td>2018-Es-00894</td>\n",
       "      <td>@vito_cfc @SSFE2017 Jjaakjak , pronto lo haré</td>\n",
       "      <td>valence</td>\n",
       "      <td>1</td>\n",
       "      <td>se infiere un estado emocional ligeramente pos...</td>\n",
       "      <td>MENCION cfc MENCION jjaakjak pronto lo haré</td>\n",
       "    </tr>\n",
       "    <tr>\n",
       "      <th>1565</th>\n",
       "      <td>2018-Es-01438</td>\n",
       "      <td>@NTN24ve eso es lo unico que sabe hacer este s...</td>\n",
       "      <td>valence</td>\n",
       "      <td>-3</td>\n",
       "      <td>se infiere un estado emocional muy negativo</td>\n",
       "      <td>MENCION eso es lo unico que sabe hacer este se...</td>\n",
       "    </tr>\n",
       "  </tbody>\n",
       "</table>\n",
       "<p>1566 rows × 6 columns</p>\n",
       "</div>"
      ],
      "text/plain": [
       "                 ID                                              Tweet  \\\n",
       "0     2018-Es-00818  Este año me tocará ir sola a la Convención de ...   \n",
       "1     2018-Es-06065  MB si no me equivoco una vez me confundi de sn...   \n",
       "2     2018-Es-00417      @cokep Que eres terrible fome! 🙄 Y añejo poh!   \n",
       "3     2018-Es-00861  Gracias por informar temas de contingencia del...   \n",
       "4     2018-Es-01772            En Maipú hace falta una peluquería ATR    \n",
       "...             ...                                                ...   \n",
       "1561  2018-Es-01295         Sale uno del estadio como todo preocupado.   \n",
       "1562  2018-Es-04833                               No mames, qué fino.    \n",
       "1563  2018-Es-05750  Me bajo mucho en la hermana del  raton, pero e...   \n",
       "1564  2018-Es-00894     @vito_cfc @SSFE2017 Jjaakjak , pronto lo haré    \n",
       "1565  2018-Es-01438  @NTN24ve eso es lo unico que sabe hacer este s...   \n",
       "\n",
       "     Dimension  Intensity                                        Description  \\\n",
       "0      valence          0    se infiere un estado emocional neutral or mixto   \n",
       "1      valence          0    se infiere un estado emocional neutral or mixto   \n",
       "2      valence         -2  se infiere un estado emocional moderadamente n...   \n",
       "3      valence         -1  se infiere un estado emocional ligeramente neg...   \n",
       "4      valence         -1  se infiere un estado emocional ligeramente neg...   \n",
       "...        ...        ...                                                ...   \n",
       "1561   valence         -1  se infiere un estado emocional ligeramente neg...   \n",
       "1562   valence          0    se infiere un estado emocional neutral or mixto   \n",
       "1563   valence         -1  se infiere un estado emocional ligeramente neg...   \n",
       "1564   valence          1  se infiere un estado emocional ligeramente pos...   \n",
       "1565   valence         -3        se infiere un estado emocional muy negativo   \n",
       "\n",
       "                                             clean_text  \n",
       "0     este año me tocará ir sola a la convención de ...  \n",
       "1     mb si no me equivoco una vez me confundi de sn...  \n",
       "2     MENCION que eres terrible fome fastidio y añej...  \n",
       "3     gracias por informar temas de contingencia del...  \n",
       "4                en maipú hace falta una peluquería atr  \n",
       "...                                                 ...  \n",
       "1561          sale uno del estadio como todo preocupado  \n",
       "1562                                  no mames qué fino  \n",
       "1563  me bajo mucho en la hermana del raton pero es ...  \n",
       "1564        MENCION cfc MENCION jjaakjak pronto lo haré  \n",
       "1565  MENCION eso es lo unico que sabe hacer este se...  \n",
       "\n",
       "[1566 rows x 6 columns]"
      ]
     },
     "execution_count": 7,
     "metadata": {},
     "output_type": "execute_result"
    }
   ],
   "source": [
    "train_data['clean_text'] = train_data['Tweet'].apply(lambda x: ta.clean_text(x))\n",
    "train_data"
   ]
  },
  {
   "cell_type": "code",
   "execution_count": 8,
   "metadata": {},
   "outputs": [],
   "source": [
    "train = train_data.drop(['ID', 'Tweet', 'Dimension', 'Description'], axis = 1)"
   ]
  },
  {
   "cell_type": "code",
   "execution_count": 9,
   "metadata": {},
   "outputs": [],
   "source": [
    "train['Intensity'] = train['Intensity'].replace([-2, -3], -1)\n",
    "train['Intensity'] = train['Intensity'].replace([2, 3], 1)"
   ]
  },
  {
   "cell_type": "code",
   "execution_count": 10,
   "metadata": {},
   "outputs": [
    {
     "data": {
      "text/html": [
       "<div>\n",
       "<style scoped>\n",
       "    .dataframe tbody tr th:only-of-type {\n",
       "        vertical-align: middle;\n",
       "    }\n",
       "\n",
       "    .dataframe tbody tr th {\n",
       "        vertical-align: top;\n",
       "    }\n",
       "\n",
       "    .dataframe thead th {\n",
       "        text-align: right;\n",
       "    }\n",
       "</style>\n",
       "<table border=\"1\" class=\"dataframe\">\n",
       "  <thead>\n",
       "    <tr style=\"text-align: right;\">\n",
       "      <th></th>\n",
       "      <th>Intensity</th>\n",
       "      <th>clean_text</th>\n",
       "    </tr>\n",
       "  </thead>\n",
       "  <tbody>\n",
       "    <tr>\n",
       "      <th>0</th>\n",
       "      <td>0</td>\n",
       "      <td>este año me tocará ir sola a la convención de ...</td>\n",
       "    </tr>\n",
       "    <tr>\n",
       "      <th>1</th>\n",
       "      <td>0</td>\n",
       "      <td>mb si no me equivoco una vez me confundi de sn...</td>\n",
       "    </tr>\n",
       "    <tr>\n",
       "      <th>2</th>\n",
       "      <td>-1</td>\n",
       "      <td>MENCION que eres terrible fome fastidio y añej...</td>\n",
       "    </tr>\n",
       "    <tr>\n",
       "      <th>3</th>\n",
       "      <td>-1</td>\n",
       "      <td>gracias por informar temas de contingencia del...</td>\n",
       "    </tr>\n",
       "    <tr>\n",
       "      <th>4</th>\n",
       "      <td>-1</td>\n",
       "      <td>en maipú hace falta una peluquería atr</td>\n",
       "    </tr>\n",
       "    <tr>\n",
       "      <th>...</th>\n",
       "      <td>...</td>\n",
       "      <td>...</td>\n",
       "    </tr>\n",
       "    <tr>\n",
       "      <th>1561</th>\n",
       "      <td>-1</td>\n",
       "      <td>sale uno del estadio como todo preocupado</td>\n",
       "    </tr>\n",
       "    <tr>\n",
       "      <th>1562</th>\n",
       "      <td>0</td>\n",
       "      <td>no mames qué fino</td>\n",
       "    </tr>\n",
       "    <tr>\n",
       "      <th>1563</th>\n",
       "      <td>-1</td>\n",
       "      <td>me bajo mucho en la hermana del raton pero es ...</td>\n",
       "    </tr>\n",
       "    <tr>\n",
       "      <th>1564</th>\n",
       "      <td>1</td>\n",
       "      <td>MENCION cfc MENCION jjaakjak pronto lo haré</td>\n",
       "    </tr>\n",
       "    <tr>\n",
       "      <th>1565</th>\n",
       "      <td>-1</td>\n",
       "      <td>MENCION eso es lo unico que sabe hacer este se...</td>\n",
       "    </tr>\n",
       "  </tbody>\n",
       "</table>\n",
       "<p>1566 rows × 2 columns</p>\n",
       "</div>"
      ],
      "text/plain": [
       "      Intensity                                         clean_text\n",
       "0             0  este año me tocará ir sola a la convención de ...\n",
       "1             0  mb si no me equivoco una vez me confundi de sn...\n",
       "2            -1  MENCION que eres terrible fome fastidio y añej...\n",
       "3            -1  gracias por informar temas de contingencia del...\n",
       "4            -1             en maipú hace falta una peluquería atr\n",
       "...         ...                                                ...\n",
       "1561         -1          sale uno del estadio como todo preocupado\n",
       "1562          0                                  no mames qué fino\n",
       "1563         -1  me bajo mucho en la hermana del raton pero es ...\n",
       "1564          1        MENCION cfc MENCION jjaakjak pronto lo haré\n",
       "1565         -1  MENCION eso es lo unico que sabe hacer este se...\n",
       "\n",
       "[1566 rows x 2 columns]"
      ]
     },
     "execution_count": 10,
     "metadata": {},
     "output_type": "execute_result"
    }
   ],
   "source": [
    "train"
   ]
  },
  {
   "cell_type": "markdown",
   "metadata": {},
   "source": [
    "# Test"
   ]
  },
  {
   "cell_type": "code",
   "execution_count": 11,
   "metadata": {
    "pycharm": {
     "is_executing": true
    }
   },
   "outputs": [],
   "source": [
    "test_data = pd.read_csv(ftest, sep = ';')"
   ]
  },
  {
   "cell_type": "code",
   "execution_count": 12,
   "metadata": {
    "pycharm": {
     "is_executing": true
    }
   },
   "outputs": [
    {
     "data": {
      "text/html": [
       "<div>\n",
       "<style scoped>\n",
       "    .dataframe tbody tr th:only-of-type {\n",
       "        vertical-align: middle;\n",
       "    }\n",
       "\n",
       "    .dataframe tbody tr th {\n",
       "        vertical-align: top;\n",
       "    }\n",
       "\n",
       "    .dataframe thead th {\n",
       "        text-align: right;\n",
       "    }\n",
       "</style>\n",
       "<table border=\"1\" class=\"dataframe\">\n",
       "  <thead>\n",
       "    <tr style=\"text-align: right;\">\n",
       "      <th></th>\n",
       "      <th>ID</th>\n",
       "      <th>Tweet</th>\n",
       "      <th>Dimension</th>\n",
       "      <th>Intensity</th>\n",
       "      <th>Description</th>\n",
       "      <th>clean_text</th>\n",
       "    </tr>\n",
       "  </thead>\n",
       "  <tbody>\n",
       "    <tr>\n",
       "      <th>0</th>\n",
       "      <td>2018-Es-00766</td>\n",
       "      <td>Dios que susto lpmmm 🙏😡</td>\n",
       "      <td>valence</td>\n",
       "      <td>-2</td>\n",
       "      <td>se infiere un estado emocional moderadamente n...</td>\n",
       "      <td>dios que susto lpmmm por favor enojado</td>\n",
       "    </tr>\n",
       "    <tr>\n",
       "      <th>1</th>\n",
       "      <td>2018-Es-01333</td>\n",
       "      <td>Que lindo que es viajar en moto vieja</td>\n",
       "      <td>valence</td>\n",
       "      <td>2</td>\n",
       "      <td>se infiere un estado emocional moderadamente p...</td>\n",
       "      <td>que lindo que es viajar en moto vieja</td>\n",
       "    </tr>\n",
       "    <tr>\n",
       "      <th>2</th>\n",
       "      <td>2018-Es-06190</td>\n",
       "      <td>que ansiedad de mierda vo</td>\n",
       "      <td>valence</td>\n",
       "      <td>-3</td>\n",
       "      <td>se infiere un estado emocional muy negativo</td>\n",
       "      <td>que ansiedad de mierda vo</td>\n",
       "    </tr>\n",
       "    <tr>\n",
       "      <th>3</th>\n",
       "      <td>2018-Es-05144</td>\n",
       "      <td>La ansiedad no desaprovecha ni un segundo.</td>\n",
       "      <td>valence</td>\n",
       "      <td>-2</td>\n",
       "      <td>se infiere un estado emocional moderadamente n...</td>\n",
       "      <td>la ansiedad no desaprovecha ni un segundo</td>\n",
       "    </tr>\n",
       "    <tr>\n",
       "      <th>4</th>\n",
       "      <td>2018-Es-04187</td>\n",
       "      <td>@ts8rr8t Mucho gusto.</td>\n",
       "      <td>valence</td>\n",
       "      <td>2</td>\n",
       "      <td>se infiere un estado emocional moderadamente p...</td>\n",
       "      <td>MENCION mucho gusto</td>\n",
       "    </tr>\n",
       "    <tr>\n",
       "      <th>...</th>\n",
       "      <td>...</td>\n",
       "      <td>...</td>\n",
       "      <td>...</td>\n",
       "      <td>...</td>\n",
       "      <td>...</td>\n",
       "      <td>...</td>\n",
       "    </tr>\n",
       "    <tr>\n",
       "      <th>224</th>\n",
       "      <td>2018-Es-02893</td>\n",
       "      <td>Ustedes que saben de terror si sus hij@s no le...</td>\n",
       "      <td>valence</td>\n",
       "      <td>-1</td>\n",
       "      <td>se infiere un estado emocional ligeramente neg...</td>\n",
       "      <td>ustedes que saben de terror si sus hij MENCION...</td>\n",
       "    </tr>\n",
       "    <tr>\n",
       "      <th>225</th>\n",
       "      <td>2018-Es-03654</td>\n",
       "      <td>@AmorVIPcom Un gusto..</td>\n",
       "      <td>valence</td>\n",
       "      <td>1</td>\n",
       "      <td>se infiere un estado emocional ligeramente pos...</td>\n",
       "      <td>MENCION un gusto</td>\n",
       "    </tr>\n",
       "    <tr>\n",
       "      <th>226</th>\n",
       "      <td>2018-Es-01556</td>\n",
       "      <td>@elespanolcom A lo loco!!! ¿Lo próximo qué ser...</td>\n",
       "      <td>valence</td>\n",
       "      <td>-3</td>\n",
       "      <td>se infiere un estado emocional muy negativo</td>\n",
       "      <td>MENCION a lo loco lo próximo qué será que pued...</td>\n",
       "    </tr>\n",
       "    <tr>\n",
       "      <th>227</th>\n",
       "      <td>2018-Es-06385</td>\n",
       "      <td>@the_os_07 @globovision tiburón eres un enchuf...</td>\n",
       "      <td>valence</td>\n",
       "      <td>-2</td>\n",
       "      <td>se infiere un estado emocional moderadamente n...</td>\n",
       "      <td>MENCION os MENCION tiburón eres un enchufado m...</td>\n",
       "    </tr>\n",
       "    <tr>\n",
       "      <th>228</th>\n",
       "      <td>2018-Es-02860</td>\n",
       "      <td>@kjol_huellitas Ahora es aburrida pero con mús...</td>\n",
       "      <td>valence</td>\n",
       "      <td>-1</td>\n",
       "      <td>se infiere un estado emocional ligeramente neg...</td>\n",
       "      <td>MENCION huellitas ahora es aburrida pero con m...</td>\n",
       "    </tr>\n",
       "  </tbody>\n",
       "</table>\n",
       "<p>229 rows × 6 columns</p>\n",
       "</div>"
      ],
      "text/plain": [
       "                ID                                              Tweet  \\\n",
       "0    2018-Es-00766                            Dios que susto lpmmm 🙏😡   \n",
       "1    2018-Es-01333            Que lindo que es viajar en moto vieja     \n",
       "2    2018-Es-06190                          que ansiedad de mierda vo   \n",
       "3    2018-Es-05144         La ansiedad no desaprovecha ni un segundo.   \n",
       "4    2018-Es-04187                              @ts8rr8t Mucho gusto.   \n",
       "..             ...                                                ...   \n",
       "224  2018-Es-02893  Ustedes que saben de terror si sus hij@s no le...   \n",
       "225  2018-Es-03654                             @AmorVIPcom Un gusto..   \n",
       "226  2018-Es-01556  @elespanolcom A lo loco!!! ¿Lo próximo qué ser...   \n",
       "227  2018-Es-06385  @the_os_07 @globovision tiburón eres un enchuf...   \n",
       "228  2018-Es-02860  @kjol_huellitas Ahora es aburrida pero con mús...   \n",
       "\n",
       "    Dimension  Intensity                                        Description  \\\n",
       "0     valence         -2  se infiere un estado emocional moderadamente n...   \n",
       "1     valence          2  se infiere un estado emocional moderadamente p...   \n",
       "2     valence         -3        se infiere un estado emocional muy negativo   \n",
       "3     valence         -2  se infiere un estado emocional moderadamente n...   \n",
       "4     valence          2  se infiere un estado emocional moderadamente p...   \n",
       "..        ...        ...                                                ...   \n",
       "224   valence         -1  se infiere un estado emocional ligeramente neg...   \n",
       "225   valence          1  se infiere un estado emocional ligeramente pos...   \n",
       "226   valence         -3        se infiere un estado emocional muy negativo   \n",
       "227   valence         -2  se infiere un estado emocional moderadamente n...   \n",
       "228   valence         -1  se infiere un estado emocional ligeramente neg...   \n",
       "\n",
       "                                            clean_text  \n",
       "0               dios que susto lpmmm por favor enojado  \n",
       "1                que lindo que es viajar en moto vieja  \n",
       "2                            que ansiedad de mierda vo  \n",
       "3            la ansiedad no desaprovecha ni un segundo  \n",
       "4                                  MENCION mucho gusto  \n",
       "..                                                 ...  \n",
       "224  ustedes que saben de terror si sus hij MENCION...  \n",
       "225                                   MENCION un gusto  \n",
       "226  MENCION a lo loco lo próximo qué será que pued...  \n",
       "227  MENCION os MENCION tiburón eres un enchufado m...  \n",
       "228  MENCION huellitas ahora es aburrida pero con m...  \n",
       "\n",
       "[229 rows x 6 columns]"
      ]
     },
     "execution_count": 12,
     "metadata": {},
     "output_type": "execute_result"
    }
   ],
   "source": [
    "test_data['clean_text'] = test_data['Tweet'].apply(lambda x: ta.clean_text(x))\n",
    "test_data"
   ]
  },
  {
   "cell_type": "code",
   "execution_count": 13,
   "metadata": {},
   "outputs": [],
   "source": [
    "test = test_data.drop(['ID', 'Tweet', 'Dimension', 'Description'], axis = 1)"
   ]
  },
  {
   "cell_type": "code",
   "execution_count": 14,
   "metadata": {},
   "outputs": [
    {
     "data": {
      "text/html": [
       "<div>\n",
       "<style scoped>\n",
       "    .dataframe tbody tr th:only-of-type {\n",
       "        vertical-align: middle;\n",
       "    }\n",
       "\n",
       "    .dataframe tbody tr th {\n",
       "        vertical-align: top;\n",
       "    }\n",
       "\n",
       "    .dataframe thead th {\n",
       "        text-align: right;\n",
       "    }\n",
       "</style>\n",
       "<table border=\"1\" class=\"dataframe\">\n",
       "  <thead>\n",
       "    <tr style=\"text-align: right;\">\n",
       "      <th></th>\n",
       "      <th>Intensity</th>\n",
       "      <th>clean_text</th>\n",
       "    </tr>\n",
       "  </thead>\n",
       "  <tbody>\n",
       "    <tr>\n",
       "      <th>0</th>\n",
       "      <td>-1</td>\n",
       "      <td>dios que susto lpmmm por favor enojado</td>\n",
       "    </tr>\n",
       "    <tr>\n",
       "      <th>1</th>\n",
       "      <td>1</td>\n",
       "      <td>que lindo que es viajar en moto vieja</td>\n",
       "    </tr>\n",
       "    <tr>\n",
       "      <th>2</th>\n",
       "      <td>-1</td>\n",
       "      <td>que ansiedad de mierda vo</td>\n",
       "    </tr>\n",
       "    <tr>\n",
       "      <th>3</th>\n",
       "      <td>-1</td>\n",
       "      <td>la ansiedad no desaprovecha ni un segundo</td>\n",
       "    </tr>\n",
       "    <tr>\n",
       "      <th>4</th>\n",
       "      <td>1</td>\n",
       "      <td>MENCION mucho gusto</td>\n",
       "    </tr>\n",
       "    <tr>\n",
       "      <th>...</th>\n",
       "      <td>...</td>\n",
       "      <td>...</td>\n",
       "    </tr>\n",
       "    <tr>\n",
       "      <th>224</th>\n",
       "      <td>-1</td>\n",
       "      <td>ustedes que saben de terror si sus hij MENCION...</td>\n",
       "    </tr>\n",
       "    <tr>\n",
       "      <th>225</th>\n",
       "      <td>1</td>\n",
       "      <td>MENCION un gusto</td>\n",
       "    </tr>\n",
       "    <tr>\n",
       "      <th>226</th>\n",
       "      <td>-1</td>\n",
       "      <td>MENCION a lo loco lo próximo qué será que pued...</td>\n",
       "    </tr>\n",
       "    <tr>\n",
       "      <th>227</th>\n",
       "      <td>-1</td>\n",
       "      <td>MENCION os MENCION tiburón eres un enchufado m...</td>\n",
       "    </tr>\n",
       "    <tr>\n",
       "      <th>228</th>\n",
       "      <td>-1</td>\n",
       "      <td>MENCION huellitas ahora es aburrida pero con m...</td>\n",
       "    </tr>\n",
       "  </tbody>\n",
       "</table>\n",
       "<p>229 rows × 2 columns</p>\n",
       "</div>"
      ],
      "text/plain": [
       "     Intensity                                         clean_text\n",
       "0           -1             dios que susto lpmmm por favor enojado\n",
       "1            1              que lindo que es viajar en moto vieja\n",
       "2           -1                          que ansiedad de mierda vo\n",
       "3           -1          la ansiedad no desaprovecha ni un segundo\n",
       "4            1                                MENCION mucho gusto\n",
       "..         ...                                                ...\n",
       "224         -1  ustedes que saben de terror si sus hij MENCION...\n",
       "225          1                                   MENCION un gusto\n",
       "226         -1  MENCION a lo loco lo próximo qué será que pued...\n",
       "227         -1  MENCION os MENCION tiburón eres un enchufado m...\n",
       "228         -1  MENCION huellitas ahora es aburrida pero con m...\n",
       "\n",
       "[229 rows x 2 columns]"
      ]
     },
     "execution_count": 14,
     "metadata": {},
     "output_type": "execute_result"
    }
   ],
   "source": [
    "test['Intensity'] = test['Intensity'].replace([-2, -3], -1)\n",
    "test['Intensity'] = test['Intensity'].replace([2, 3], 1)\n",
    "test"
   ]
  },
  {
   "cell_type": "code",
   "execution_count": 15,
   "metadata": {
    "pycharm": {
     "is_executing": true
    }
   },
   "outputs": [],
   "source": [
    "x_train = train['clean_text']\n",
    "y_train = train['Intensity']"
   ]
  },
  {
   "cell_type": "code",
   "execution_count": 16,
   "metadata": {
    "pycharm": {
     "is_executing": true
    }
   },
   "outputs": [],
   "source": [
    "x_test = test['clean_text']\n",
    "y_test = test['Intensity']"
   ]
  },
  {
   "cell_type": "markdown",
   "metadata": {},
   "source": [
    "## Get training features"
   ]
  },
  {
   "cell_type": "code",
   "execution_count": 17,
   "metadata": {
    "pycharm": {
     "is_executing": true
    }
   },
   "outputs": [
    {
     "name": "stderr",
     "output_type": "stream",
     "text": [
      "100%|██████████| 1566/1566 [00:41<00:00, 37.65it/s]\n"
     ]
    }
   ],
   "source": [
    "x_train = features.get_feature_phonestheme(x_train)"
   ]
  },
  {
   "cell_type": "code",
   "execution_count": 18,
   "metadata": {
    "pycharm": {
     "is_executing": true
    }
   },
   "outputs": [],
   "source": [
    "x_train = preprocessing.normalize(x_train)"
   ]
  },
  {
   "cell_type": "markdown",
   "metadata": {},
   "source": [
    "## Get test features"
   ]
  },
  {
   "cell_type": "code",
   "execution_count": null,
   "metadata": {
    "pycharm": {
     "is_executing": true
    }
   },
   "outputs": [
    {
     "name": "stderr",
     "output_type": "stream",
     "text": [
      "  6%|▌         | 14/229 [00:00<00:05, 36.53it/s]"
     ]
    }
   ],
   "source": [
    "x_test = features.get_feature_phonestheme(x_test)\n",
    "x_test = preprocessing.normalize(x_test)"
   ]
  },
  {
   "cell_type": "markdown",
   "metadata": {},
   "source": [
    "## Over sampling"
   ]
  },
  {
   "cell_type": "code",
   "execution_count": null,
   "metadata": {
    "pycharm": {
     "is_executing": true
    }
   },
   "outputs": [],
   "source": [
    "print('**Sample train:', sorted(Counter(y_train).items()))\n",
    "print('**Sample test:', sorted(Counter(y_test).items()))"
   ]
  },
  {
   "cell_type": "code",
   "execution_count": null,
   "metadata": {
    "pycharm": {
     "is_executing": true
    }
   },
   "outputs": [],
   "source": [
    "ros_train = RandomUnderSampler(random_state=1000)\n",
    "x_train, y_train = ros_train.fit_resample(x_train, y_train)\n",
    "print('**OverSampler train:', sorted(Counter(y_train).items()))"
   ]
  },
  {
   "cell_type": "code",
   "execution_count": null,
   "metadata": {
    "pycharm": {
     "is_executing": true
    }
   },
   "outputs": [],
   "source": [
    "ros_test = RandomOverSampler(random_state=1000)\n",
    "x_test, y_test = ros_test.fit_resample(x_test, y_test)\n",
    "print('**RandomOverSampler test:', sorted(Counter(y_test).items()))"
   ]
  },
  {
   "cell_type": "code",
   "execution_count": null,
   "metadata": {
    "pycharm": {
     "is_executing": true
    }
   },
   "outputs": [],
   "source": [
    "k_fold = ShuffleSplit(n_splits=10, test_size=0.30, random_state=42)"
   ]
  },
  {
   "cell_type": "code",
   "execution_count": null,
   "metadata": {
    "pycharm": {
     "is_executing": true
    }
   },
   "outputs": [],
   "source": [
    "models = [(\"RF\", RandomForestClassifier(max_depth=200, n_estimators=200, random_state=42)),\n",
    "          (\"DT\", DecisionTreeClassifier(max_depth = 4)),\n",
    "          (\"NB\", GaussianNB())]"
   ]
  },
  {
   "cell_type": "code",
   "execution_count": null,
   "metadata": {
    "pycharm": {
     "is_executing": true
    },
    "scrolled": true
   },
   "outputs": [],
   "source": [
    "finalResults = []\n",
    "cmList = []\n",
    "for name, model in models:\n",
    "    accuracies = []\n",
    "    precisions = []\n",
    "    recalls = []\n",
    "    f1s = []\n",
    "    for train_index, test_index in k_fold.split(x_train, y_train):\n",
    "        data_train = x_train[train_index]\n",
    "        target_train = y_train[train_index]\n",
    "\n",
    "        data_test = x_train[test_index]\n",
    "        target_test = y_train[test_index]\n",
    "        \n",
    "        model.fit(data_train, target_train)\n",
    "        predict = model.predict(data_test)\n",
    "         # Accuracy\n",
    "        accuracy = accuracy_score(target_test, predict, normalize=True)\n",
    "        accuracies.append(accuracy)\n",
    "        # Precision\n",
    "        precision = precision_score(target_test, predict, average=\"macro\")\n",
    "        precisions.append(precision)\n",
    "        # recall\n",
    "        recall = recall_score(target_test, predict, average=\"macro\")\n",
    "        recalls.append(recall)\n",
    "        # f1\n",
    "        f1 = f1_score(target_test, predict, average=\"macro\")\n",
    "        f1s.append(f1)\n",
    "    \n",
    "    y_predict = model.predict(x_test)\n",
    "    cm= confusion_matrix(y_test, y_predict)\n",
    "    cmList.append((name,cm))\n",
    "    \n",
    "    finalResults.append({'name':name, \n",
    "                         'model': model,\n",
    "                         'accuracy': round(np.mean(accuracies), 2), \n",
    "                         'precision': round(np.mean(precisions), 2),\n",
    "                         'recall': round(np.mean(recalls), 2),\n",
    "                         'f1': round(np.mean(f1s), 2),\n",
    "                         'confusion_matrix': cm\n",
    "                        })"
   ]
  },
  {
   "cell_type": "code",
   "execution_count": null,
   "metadata": {},
   "outputs": [],
   "source": [
    "df_result = pd.DataFrame.from_dict(finalResults)\n",
    "df_result"
   ]
  },
  {
   "cell_type": "code",
   "execution_count": null,
   "metadata": {
    "pycharm": {
     "is_executing": true
    }
   },
   "outputs": [],
   "source": [
    "for name , i in cmList:\n",
    "    plt.figure()\n",
    "    sns.heatmap(i , annot =True, linewidth=0.8,fmt=\".1f\")\n",
    "    plt.title(name)\n",
    "    plt.show()"
   ]
  },
  {
   "cell_type": "code",
   "execution_count": null,
   "metadata": {},
   "outputs": [],
   "source": []
  }
 ],
 "metadata": {
  "kernelspec": {
   "display_name": "Python 3 (ipykernel)",
   "language": "python",
   "name": "python3"
  },
  "language_info": {
   "codemirror_mode": {
    "name": "ipython",
    "version": 3
   },
   "file_extension": ".py",
   "mimetype": "text/x-python",
   "name": "python",
   "nbconvert_exporter": "python",
   "pygments_lexer": "ipython3",
   "version": "3.9.16"
  }
 },
 "nbformat": 4,
 "nbformat_minor": 1
}
